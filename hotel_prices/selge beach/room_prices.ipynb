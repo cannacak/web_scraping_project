{
 "cells": [
  {
   "cell_type": "code",
   "execution_count": 1,
   "metadata": {},
   "outputs": [],
   "source": [
    "import requests\n",
    "from bs4 import BeautifulSoup\n",
    "from datetime import datetime,timedelta\n",
    "from tqdm import tqdm\n",
    "import pandas as pd "
   ]
  },
  {
   "cell_type": "code",
   "execution_count": 2,
   "metadata": {},
   "outputs": [],
   "source": [
    "cookies = {\n",
    "    'twk_uuid_5785e4dff205e88262fd49f0': '%7B%22uuid%22%3A%221.2U63Ftif6AyHpK2T22E9zvOZQ4GMgFl9aHi11hYkh7EvkEG5In7Z2zTAh02GLna0m93mtylfH87OEMQYkkn3gySNLFuwIwNwpFsXtWSQbk8zRjo7oqg03zAOX5txA2f%22%2C%22version%22%3A3%2C%22domain%22%3A%22selgebeachhotel.com%22%2C%22ts%22%3A1707738072347%7D',\n",
    "    'ASP.NET_SessionId': 'vzuvj2zbg4j14g23vuao34ad',\n",
    "    'Cerez': 'languagePref=tr-TR&LangID=1&LangCode=TR',\n",
    "    'CerezOpt': 'OperatorCode=WEBTL&Ulke=TR',\n",
    "    'OtelAra': 'CIn=08.06.2024&COut=09.06.2024&Adl=2&Chd=0&ChdAge=',\n",
    "}\n",
    "\n",
    "headers = {\n",
    "    'authority': 'online.selgebeachhotel.com',\n",
    "    'accept': '*/*',\n",
    "    'accept-language': 'tr-TR,tr;q=0.9,en-US;q=0.8,en;q=0.7',\n",
    "    'cache-control': 'no-cache',\n",
    "    'content-type': 'application/x-www-form-urlencoded; charset=UTF-8',\n",
    "    # 'cookie': 'twk_uuid_5785e4dff205e88262fd49f0=%7B%22uuid%22%3A%221.2U63Ftif6AyHpK2T22E9zvOZQ4GMgFl9aHi11hYkh7EvkEG5In7Z2zTAh02GLna0m93mtylfH87OEMQYkkn3gySNLFuwIwNwpFsXtWSQbk8zRjo7oqg03zAOX5txA2f%22%2C%22version%22%3A3%2C%22domain%22%3A%22selgebeachhotel.com%22%2C%22ts%22%3A1707738072347%7D; ASP.NET_SessionId=vzuvj2zbg4j14g23vuao34ad; Cerez=languagePref=tr-TR&LangID=1&LangCode=TR; CerezOpt=OperatorCode=WEBTL&Ulke=TR; OtelAra=CIn=08.06.2024&COut=09.06.2024&Adl=2&Chd=0&ChdAge=',\n",
    "    'origin': 'https://online.selgebeachhotel.com',\n",
    "    'pragma': 'no-cache',\n",
    "    'referer': 'https://online.selgebeachhotel.com/?strInDate=08.06.2024&strOutDate=09.06.2024&intAdl=2&intChd=0',\n",
    "    'sec-ch-ua': '\"Not A(Brand\";v=\"99\", \"Google Chrome\";v=\"121\", \"Chromium\";v=\"121\"',\n",
    "    'sec-ch-ua-mobile': '?0',\n",
    "    'sec-ch-ua-platform': '\"Windows\"',\n",
    "    'sec-fetch-dest': 'empty',\n",
    "    'sec-fetch-mode': 'cors',\n",
    "    'sec-fetch-site': 'same-origin',\n",
    "    'user-agent': 'Mozilla/5.0 (Windows NT 10.0; Win64; x64) AppleWebKit/537.36 (KHTML, like Gecko) Chrome/121.0.0.0 Safari/537.36',\n",
    "    'x-requested-with': 'XMLHttpRequest',\n",
    "}\n",
    "\n",
    "data = {\n",
    "    'sender': 'btnOdaAra',\n",
    "    'txtGirisTarihi': [\n",
    "        '08.03.2024',\n",
    "        '09.03.2024',\n",
    "    ],\n",
    "    'ddAdl': '2',\n",
    "    'ddChd': '0',\n",
    "    'form': 'otelara',\n",
    "    'formname': 'formOda',\n",
    "    'hotelcode': 'SELGE',\n",
    "    'operatorcode': 'WEBTL',\n",
    "}\n",
    "\n",
    "response = requests.post('https://online.selgebeachhotel.com/Ajx.aspx', cookies=cookies, headers=headers, data=data)"
   ]
  },
  {
   "cell_type": "code",
   "execution_count": 3,
   "metadata": {},
   "outputs": [],
   "source": [
    "def make_request(data):\n",
    "\n",
    "    response = requests.post('https://online.selgebeachhotel.com/Ajx.aspx', cookies=cookies, headers=headers, data=data)\n",
    "\n",
    "    return response"
   ]
  },
  {
   "cell_type": "code",
   "execution_count": 4,
   "metadata": {},
   "outputs": [],
   "source": [
    "def fetch_data(check_in_date):\n",
    "\n",
    "    check_out_date = check_in_date + timedelta(days=1)\n",
    "    \n",
    "    check_in_date = check_in_date.strftime('%d.%m.%Y')\n",
    "    check_out_date = check_out_date.strftime('%d.%m.%Y')\n",
    "\n",
    "    data['txtGirisTarihi'] = [check_in_date,check_out_date]\n",
    "\n",
    "    response = make_request(data)\n",
    "    \n",
    "    soup = BeautifulSoup(response.content,'lxml')\n",
    "\n",
    "    rooms = soup.find_all('div', class_='row')\n",
    "\n",
    "    # Initialize a list to hold room data\n",
    "    room_data = []\n",
    "\n",
    "    for room in rooms:\n",
    "        room_name = room.find('h3').text if room.find('h3') else 'No Name'\n",
    "        room_price = room.find('span', class_='oda-yeni-fiyat').text if room.find('span', class_='oda-yeni-fiyat') else 'No Price'\n",
    "        amenities_div = soup.find('div', class_='tj')\n",
    "        amenities_text = amenities_div.p.text.strip() if amenities_div and amenities_div.p else 'No amenities listed'\n",
    "        room_data.append({'check_in_date': check_in_date, 'check_out_date': check_out_date, 'room_name': room_name, 'price': room_price, 'amenities': amenities_text})\n",
    "    \n",
    "    if len(room_data) == 0:\n",
    "        print(f'No rooms available for {check_in_date}')\n",
    "        return None\n",
    "\n",
    "    df = pd.DataFrame(room_data)\n",
    "    \n",
    "    return df\n"
   ]
  },
  {
   "cell_type": "code",
   "execution_count": 5,
   "metadata": {},
   "outputs": [],
   "source": [
    "initial_date = datetime(year=2024, month=4, day=9)\n",
    "last_date = datetime(year=2025, month=1, day=1)"
   ]
  },
  {
   "cell_type": "code",
   "execution_count": 6,
   "metadata": {},
   "outputs": [],
   "source": [
    "from datetime import datetime, timedelta\n",
    "def datetime_range(start, end, delta=timedelta(days=1)):\n",
    "    current = start\n",
    "    while current < end:\n",
    "        yield current\n",
    "        current += delta\n",
    "\n",
    "all_dates = list(datetime_range(initial_date, last_date))\n"
   ]
  },
  {
   "cell_type": "code",
   "execution_count": 7,
   "metadata": {},
   "outputs": [
    {
     "name": "stderr",
     "output_type": "stream",
     "text": [
      "  0%|          | 0/267 [00:00<?, ?it/s]"
     ]
    },
    {
     "name": "stderr",
     "output_type": "stream",
     "text": [
      " 78%|███████▊  | 207/267 [03:00<00:48,  1.25it/s]"
     ]
    },
    {
     "name": "stdout",
     "output_type": "stream",
     "text": [
      "No rooms available for 01.11.2024\n"
     ]
    },
    {
     "name": "stderr",
     "output_type": "stream",
     "text": [
      " 78%|███████▊  | 208/267 [03:00<00:37,  1.58it/s]"
     ]
    },
    {
     "name": "stdout",
     "output_type": "stream",
     "text": [
      "No rooms available for 02.11.2024\n"
     ]
    },
    {
     "name": "stderr",
     "output_type": "stream",
     "text": [
      " 79%|███████▊  | 210/267 [03:01<00:23,  2.46it/s]"
     ]
    },
    {
     "name": "stdout",
     "output_type": "stream",
     "text": [
      "No rooms available for 03.11.2024\n",
      "No rooms available for 04.11.2024\n"
     ]
    },
    {
     "name": "stderr",
     "output_type": "stream",
     "text": [
      " 79%|███████▉  | 211/267 [03:01<00:23,  2.37it/s]"
     ]
    },
    {
     "name": "stdout",
     "output_type": "stream",
     "text": [
      "No rooms available for 05.11.2024\n"
     ]
    },
    {
     "name": "stderr",
     "output_type": "stream",
     "text": [
      " 79%|███████▉  | 212/267 [03:01<00:20,  2.73it/s]"
     ]
    },
    {
     "name": "stdout",
     "output_type": "stream",
     "text": [
      "No rooms available for 06.11.2024\n"
     ]
    },
    {
     "name": "stderr",
     "output_type": "stream",
     "text": [
      " 80%|███████▉  | 213/267 [03:01<00:17,  3.03it/s]"
     ]
    },
    {
     "name": "stdout",
     "output_type": "stream",
     "text": [
      "No rooms available for 07.11.2024\n"
     ]
    },
    {
     "name": "stderr",
     "output_type": "stream",
     "text": [
      " 80%|████████  | 214/267 [03:02<00:19,  2.73it/s]"
     ]
    },
    {
     "name": "stdout",
     "output_type": "stream",
     "text": [
      "No rooms available for 08.11.2024\n"
     ]
    },
    {
     "name": "stderr",
     "output_type": "stream",
     "text": [
      " 81%|████████  | 215/267 [03:02<00:20,  2.51it/s]"
     ]
    },
    {
     "name": "stdout",
     "output_type": "stream",
     "text": [
      "No rooms available for 09.11.2024\n"
     ]
    },
    {
     "name": "stderr",
     "output_type": "stream",
     "text": [
      " 81%|████████  | 216/267 [03:03<00:21,  2.40it/s]"
     ]
    },
    {
     "name": "stdout",
     "output_type": "stream",
     "text": [
      "No rooms available for 10.11.2024\n"
     ]
    },
    {
     "name": "stderr",
     "output_type": "stream",
     "text": [
      " 81%|████████▏ | 217/267 [03:03<00:18,  2.65it/s]"
     ]
    },
    {
     "name": "stdout",
     "output_type": "stream",
     "text": [
      "No rooms available for 11.11.2024\n"
     ]
    },
    {
     "name": "stderr",
     "output_type": "stream",
     "text": [
      " 82%|████████▏ | 219/267 [03:04<00:15,  3.15it/s]"
     ]
    },
    {
     "name": "stdout",
     "output_type": "stream",
     "text": [
      "No rooms available for 12.11.2024\n",
      "No rooms available for 13.11.2024\n"
     ]
    },
    {
     "name": "stderr",
     "output_type": "stream",
     "text": [
      " 83%|████████▎ | 221/267 [03:04<00:11,  4.10it/s]"
     ]
    },
    {
     "name": "stdout",
     "output_type": "stream",
     "text": [
      "No rooms available for 14.11.2024\n",
      "No rooms available for 15.11.2024\n"
     ]
    },
    {
     "name": "stderr",
     "output_type": "stream",
     "text": [
      " 84%|████████▎ | 223/267 [03:04<00:08,  5.38it/s]"
     ]
    },
    {
     "name": "stdout",
     "output_type": "stream",
     "text": [
      "No rooms available for 16.11.2024\n",
      "No rooms available for 17.11.2024\n"
     ]
    },
    {
     "name": "stderr",
     "output_type": "stream",
     "text": [
      " 84%|████████▍ | 225/267 [03:05<00:06,  6.49it/s]"
     ]
    },
    {
     "name": "stdout",
     "output_type": "stream",
     "text": [
      "No rooms available for 18.11.2024\n",
      "No rooms available for 19.11.2024\n"
     ]
    },
    {
     "name": "stderr",
     "output_type": "stream",
     "text": [
      " 85%|████████▌ | 227/267 [03:05<00:05,  6.95it/s]"
     ]
    },
    {
     "name": "stdout",
     "output_type": "stream",
     "text": [
      "No rooms available for 20.11.2024\n",
      "No rooms available for 21.11.2024\n"
     ]
    },
    {
     "name": "stderr",
     "output_type": "stream",
     "text": [
      " 86%|████████▌ | 229/267 [03:05<00:05,  7.42it/s]"
     ]
    },
    {
     "name": "stdout",
     "output_type": "stream",
     "text": [
      "No rooms available for 22.11.2024\n",
      "No rooms available for 23.11.2024\n"
     ]
    },
    {
     "name": "stderr",
     "output_type": "stream",
     "text": [
      " 87%|████████▋ | 231/267 [03:05<00:04,  7.89it/s]"
     ]
    },
    {
     "name": "stdout",
     "output_type": "stream",
     "text": [
      "No rooms available for 24.11.2024\n",
      "No rooms available for 25.11.2024\n"
     ]
    },
    {
     "name": "stderr",
     "output_type": "stream",
     "text": [
      " 87%|████████▋ | 233/267 [03:06<00:04,  7.51it/s]"
     ]
    },
    {
     "name": "stdout",
     "output_type": "stream",
     "text": [
      "No rooms available for 26.11.2024\n",
      "No rooms available for 27.11.2024\n"
     ]
    },
    {
     "name": "stderr",
     "output_type": "stream",
     "text": [
      " 88%|████████▊ | 235/267 [03:06<00:04,  7.47it/s]"
     ]
    },
    {
     "name": "stdout",
     "output_type": "stream",
     "text": [
      "No rooms available for 28.11.2024\n",
      "No rooms available for 29.11.2024\n"
     ]
    },
    {
     "name": "stderr",
     "output_type": "stream",
     "text": [
      " 89%|████████▉ | 237/267 [03:06<00:03,  7.71it/s]"
     ]
    },
    {
     "name": "stdout",
     "output_type": "stream",
     "text": [
      "No rooms available for 30.11.2024\n",
      "No rooms available for 01.12.2024\n"
     ]
    },
    {
     "name": "stderr",
     "output_type": "stream",
     "text": [
      " 90%|████████▉ | 239/267 [03:06<00:03,  7.70it/s]"
     ]
    },
    {
     "name": "stdout",
     "output_type": "stream",
     "text": [
      "No rooms available for 02.12.2024\n",
      "No rooms available for 03.12.2024\n"
     ]
    },
    {
     "name": "stderr",
     "output_type": "stream",
     "text": [
      " 90%|█████████ | 241/267 [03:07<00:03,  7.97it/s]"
     ]
    },
    {
     "name": "stdout",
     "output_type": "stream",
     "text": [
      "No rooms available for 04.12.2024\n",
      "No rooms available for 05.12.2024\n"
     ]
    },
    {
     "name": "stderr",
     "output_type": "stream",
     "text": [
      " 91%|█████████ | 243/267 [03:07<00:02,  8.13it/s]"
     ]
    },
    {
     "name": "stdout",
     "output_type": "stream",
     "text": [
      "No rooms available for 06.12.2024\n",
      "No rooms available for 07.12.2024\n"
     ]
    },
    {
     "name": "stderr",
     "output_type": "stream",
     "text": [
      " 92%|█████████▏| 245/267 [03:07<00:02,  8.22it/s]"
     ]
    },
    {
     "name": "stdout",
     "output_type": "stream",
     "text": [
      "No rooms available for 08.12.2024\n",
      "No rooms available for 09.12.2024\n"
     ]
    },
    {
     "name": "stderr",
     "output_type": "stream",
     "text": [
      " 93%|█████████▎| 247/267 [03:07<00:02,  8.01it/s]"
     ]
    },
    {
     "name": "stdout",
     "output_type": "stream",
     "text": [
      "No rooms available for 10.12.2024\n",
      "No rooms available for 11.12.2024\n"
     ]
    },
    {
     "name": "stderr",
     "output_type": "stream",
     "text": [
      " 93%|█████████▎| 249/267 [03:08<00:02,  8.40it/s]"
     ]
    },
    {
     "name": "stdout",
     "output_type": "stream",
     "text": [
      "No rooms available for 12.12.2024\n",
      "No rooms available for 13.12.2024\n"
     ]
    },
    {
     "name": "stderr",
     "output_type": "stream",
     "text": [
      " 94%|█████████▍| 251/267 [03:08<00:01,  8.44it/s]"
     ]
    },
    {
     "name": "stdout",
     "output_type": "stream",
     "text": [
      "No rooms available for 14.12.2024\n",
      "No rooms available for 15.12.2024\n"
     ]
    },
    {
     "name": "stderr",
     "output_type": "stream",
     "text": [
      " 95%|█████████▍| 253/267 [03:08<00:01,  8.57it/s]"
     ]
    },
    {
     "name": "stdout",
     "output_type": "stream",
     "text": [
      "No rooms available for 16.12.2024\n",
      "No rooms available for 17.12.2024\n"
     ]
    },
    {
     "name": "stderr",
     "output_type": "stream",
     "text": [
      " 96%|█████████▌| 255/267 [03:08<00:01,  8.52it/s]"
     ]
    },
    {
     "name": "stdout",
     "output_type": "stream",
     "text": [
      "No rooms available for 18.12.2024\n",
      "No rooms available for 19.12.2024\n"
     ]
    },
    {
     "name": "stderr",
     "output_type": "stream",
     "text": [
      " 96%|█████████▋| 257/267 [03:09<00:01,  7.98it/s]"
     ]
    },
    {
     "name": "stdout",
     "output_type": "stream",
     "text": [
      "No rooms available for 20.12.2024\n",
      "No rooms available for 21.12.2024\n"
     ]
    },
    {
     "name": "stderr",
     "output_type": "stream",
     "text": [
      " 97%|█████████▋| 259/267 [03:09<00:00,  8.28it/s]"
     ]
    },
    {
     "name": "stdout",
     "output_type": "stream",
     "text": [
      "No rooms available for 22.12.2024\n",
      "No rooms available for 23.12.2024\n"
     ]
    },
    {
     "name": "stderr",
     "output_type": "stream",
     "text": [
      " 98%|█████████▊| 261/267 [03:09<00:00,  8.08it/s]"
     ]
    },
    {
     "name": "stdout",
     "output_type": "stream",
     "text": [
      "No rooms available for 24.12.2024\n",
      "No rooms available for 25.12.2024\n"
     ]
    },
    {
     "name": "stderr",
     "output_type": "stream",
     "text": [
      " 99%|█████████▊| 263/267 [03:09<00:00,  8.26it/s]"
     ]
    },
    {
     "name": "stdout",
     "output_type": "stream",
     "text": [
      "No rooms available for 26.12.2024\n",
      "No rooms available for 27.12.2024\n"
     ]
    },
    {
     "name": "stderr",
     "output_type": "stream",
     "text": [
      " 99%|█████████▉| 264/267 [03:09<00:00,  8.31it/s]"
     ]
    },
    {
     "name": "stdout",
     "output_type": "stream",
     "text": [
      "No rooms available for 28.12.2024\n"
     ]
    },
    {
     "name": "stderr",
     "output_type": "stream",
     "text": [
      " 99%|█████████▉| 265/267 [03:10<00:00,  4.67it/s]"
     ]
    },
    {
     "name": "stdout",
     "output_type": "stream",
     "text": [
      "No rooms available for 29.12.2024\n"
     ]
    },
    {
     "name": "stderr",
     "output_type": "stream",
     "text": [
      "100%|█████████▉| 266/267 [03:10<00:00,  4.55it/s]"
     ]
    },
    {
     "name": "stdout",
     "output_type": "stream",
     "text": [
      "No rooms available for 30.12.2024\n"
     ]
    },
    {
     "name": "stderr",
     "output_type": "stream",
     "text": [
      "100%|██████████| 267/267 [03:11<00:00,  1.40it/s]"
     ]
    },
    {
     "name": "stdout",
     "output_type": "stream",
     "text": [
      "No rooms available for 31.12.2024\n"
     ]
    },
    {
     "name": "stderr",
     "output_type": "stream",
     "text": [
      "\n"
     ]
    }
   ],
   "source": [
    "df_list = []\n",
    "\n",
    "for check_in_date in tqdm(all_dates):\n",
    "\n",
    "    response = fetch_data(check_in_date)\n",
    "\n",
    "    if response is not None:\n",
    "\n",
    "        df_list.append(response)\n",
    "\n",
    "    "
   ]
  },
  {
   "cell_type": "code",
   "execution_count": 8,
   "metadata": {},
   "outputs": [],
   "source": [
    "df = pd.concat(df_list)"
   ]
  },
  {
   "cell_type": "code",
   "execution_count": 11,
   "metadata": {},
   "outputs": [],
   "source": [
    "df.drop_duplicates(inplace=True)"
   ]
  },
  {
   "cell_type": "code",
   "execution_count": 14,
   "metadata": {},
   "outputs": [],
   "source": [
    "df = df[df['room_name'] != 'No Name']"
   ]
  },
  {
   "cell_type": "code",
   "execution_count": 15,
   "metadata": {},
   "outputs": [
    {
     "data": {
      "text/html": [
       "<div>\n",
       "<style scoped>\n",
       "    .dataframe tbody tr th:only-of-type {\n",
       "        vertical-align: middle;\n",
       "    }\n",
       "\n",
       "    .dataframe tbody tr th {\n",
       "        vertical-align: top;\n",
       "    }\n",
       "\n",
       "    .dataframe thead th {\n",
       "        text-align: right;\n",
       "    }\n",
       "</style>\n",
       "<table border=\"1\" class=\"dataframe\">\n",
       "  <thead>\n",
       "    <tr style=\"text-align: right;\">\n",
       "      <th></th>\n",
       "      <th>check_in_date</th>\n",
       "      <th>check_out_date</th>\n",
       "      <th>room_name</th>\n",
       "      <th>price</th>\n",
       "      <th>amenities</th>\n",
       "    </tr>\n",
       "  </thead>\n",
       "  <tbody>\n",
       "    <tr>\n",
       "      <th>1</th>\n",
       "      <td>09.04.2024</td>\n",
       "      <td>10.04.2024</td>\n",
       "      <td>Standart Oda</td>\n",
       "      <td>7900,00 TL</td>\n",
       "      <td>\\n\\tTemizlik hizmeti, uyandırma servisi, balko...</td>\n",
       "    </tr>\n",
       "    <tr>\n",
       "      <th>3</th>\n",
       "      <td>09.04.2024</td>\n",
       "      <td>10.04.2024</td>\n",
       "      <td>Standart Deniz Manzaralı</td>\n",
       "      <td>8400,00 TL</td>\n",
       "      <td>\\n\\tTemizlik hizmeti, uyandırma servisi, balko...</td>\n",
       "    </tr>\n",
       "    <tr>\n",
       "      <th>5</th>\n",
       "      <td>09.04.2024</td>\n",
       "      <td>10.04.2024</td>\n",
       "      <td>Deluxe Oda</td>\n",
       "      <td>8900,00 TL</td>\n",
       "      <td>\\n\\tTemizlik hizmeti, uyandırma servisi, balko...</td>\n",
       "    </tr>\n",
       "    <tr>\n",
       "      <th>7</th>\n",
       "      <td>09.04.2024</td>\n",
       "      <td>10.04.2024</td>\n",
       "      <td>Deluxe Oda Deniz Manzara</td>\n",
       "      <td>9500,00 TL</td>\n",
       "      <td>\\n\\tTemizlik hizmeti, uyandırma servisi, balko...</td>\n",
       "    </tr>\n",
       "    <tr>\n",
       "      <th>9</th>\n",
       "      <td>09.04.2024</td>\n",
       "      <td>10.04.2024</td>\n",
       "      <td>SUIT</td>\n",
       "      <td>10000,00 TL</td>\n",
       "      <td>\\n\\tTemizlik hizmeti, uyandırma servisi, balko...</td>\n",
       "    </tr>\n",
       "  </tbody>\n",
       "</table>\n",
       "</div>"
      ],
      "text/plain": [
       "  check_in_date check_out_date                 room_name        price  \\\n",
       "1    09.04.2024     10.04.2024              Standart Oda   7900,00 TL   \n",
       "3    09.04.2024     10.04.2024  Standart Deniz Manzaralı   8400,00 TL   \n",
       "5    09.04.2024     10.04.2024                Deluxe Oda   8900,00 TL   \n",
       "7    09.04.2024     10.04.2024  Deluxe Oda Deniz Manzara   9500,00 TL   \n",
       "9    09.04.2024     10.04.2024                      SUIT  10000,00 TL   \n",
       "\n",
       "                                           amenities  \n",
       "1  \\n\\tTemizlik hizmeti, uyandırma servisi, balko...  \n",
       "3  \\n\\tTemizlik hizmeti, uyandırma servisi, balko...  \n",
       "5  \\n\\tTemizlik hizmeti, uyandırma servisi, balko...  \n",
       "7  \\n\\tTemizlik hizmeti, uyandırma servisi, balko...  \n",
       "9  \\n\\tTemizlik hizmeti, uyandırma servisi, balko...  "
      ]
     },
     "execution_count": 15,
     "metadata": {},
     "output_type": "execute_result"
    }
   ],
   "source": [
    "df.head()"
   ]
  },
  {
   "cell_type": "code",
   "execution_count": 16,
   "metadata": {},
   "outputs": [],
   "source": [
    "df.to_excel('selge_beach_hotel.xlsx', index=False)"
   ]
  }
 ],
 "metadata": {
  "kernelspec": {
   "display_name": "Python 3",
   "language": "python",
   "name": "python3"
  },
  "language_info": {
   "codemirror_mode": {
    "name": "ipython",
    "version": 3
   },
   "file_extension": ".py",
   "mimetype": "text/x-python",
   "name": "python",
   "nbconvert_exporter": "python",
   "pygments_lexer": "ipython3",
   "version": "3.11.4"
  }
 },
 "nbformat": 4,
 "nbformat_minor": 2
}
